{
  "cells": [
    {
      "cell_type": "markdown",
      "metadata": {},
      "source": [
        "# 02 Build Inputs\n\n",
        "Demonstrates writing RECYEAR files for a chosen input group (stub)."
      ]
    },
    {
      "cell_type": "code",
      "execution_count": null,
      "metadata": {},
      "outputs": [],
      "source": [
        "from pathlib import Path\n",
        "import sys\n",
        "sys.path.insert(0, str(Path().resolve().parent))\n",
        "from python_pipeline_scripts import utils, recyear_writer\n",
        "config = utils.load_config(Path().resolve().parent / 'config' / 'config.yaml')\n",
        "out = recyear_writer.write_recyear_files('baseline', config)\n",
        "out\n"
      ]
    }
  ],
  "metadata": {
    "kernelspec": {
      "display_name": "Python 3",
      "language": "python",
      "name": "python3"
    },
    "language_info": {
      "name": "python",
      "pygments_lexer": "ipython3"
    }
  },
  "nbformat": 4,
  "nbformat_minor": 5
}

